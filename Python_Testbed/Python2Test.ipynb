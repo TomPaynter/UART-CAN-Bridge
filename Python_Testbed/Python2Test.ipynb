{
 "cells": [
  {
   "cell_type": "code",
   "execution_count": 63,
   "metadata": {
    "collapsed": false
   },
   "outputs": [],
   "source": [
    "import serial\n",
    "\n",
    "ser = serial.Serial(port='/dev/tty.usbserial-A50285BI', baudrate = 9600, bytesize=serial.EIGHTBITS, \n",
    "                    parity=serial.PARITY_NONE, stopbits=serial.STOPBITS_ONE, timeout = 10)\n"
   ]
  },
  {
   "cell_type": "code",
   "execution_count": 67,
   "metadata": {
    "collapsed": false
   },
   "outputs": [
    {
     "name": "stdout",
     "output_type": "stream",
     "text": [
      "9\n",
      "b'...DDDDDDDDD[\\x03\\x01\\x02\\x03\\x01)]\\r....'\n"
     ]
    }
   ],
   "source": [
    "message = [b'{', 3, 1, 2, 3, 1, b')', b'}', b'\\r']\n",
    "\n",
    "print(ser.write(message))\n",
    "\n",
    "returned = ser.read(50)\n",
    "\n",
    "\n",
    "print(returned)"
   ]
  },
  {
   "cell_type": "code",
   "execution_count": 68,
   "metadata": {
    "collapsed": false
   },
   "outputs": [
    {
     "name": "stdout",
     "output_type": "stream",
     "text": [
      "3\n",
      "b'...ABC....'\n",
      "b'...ABC....'\n"
     ]
    }
   ],
   "source": [
    "message = [b'+', b'+', b'+']\n",
    "\n",
    "print(ser.write(message))\n",
    "\n",
    "\n",
    "returned = ser.read(50)\n",
    "\n",
    "\n",
    "print(returned)\n",
    "print(str(returned))"
   ]
  },
  {
   "cell_type": "code",
   "execution_count": 70,
   "metadata": {
    "collapsed": false
   },
   "outputs": [],
   "source": [
    "ser.close()\n",
    "\n"
   ]
  },
  {
   "cell_type": "code",
   "execution_count": 65,
   "metadata": {
    "collapsed": false
   },
   "outputs": [
    {
     "data": {
      "text/plain": [
       "1"
      ]
     },
     "execution_count": 65,
     "metadata": {},
     "output_type": "execute_result"
    }
   ],
   "source": [
    "ser.write([1])"
   ]
  },
  {
   "cell_type": "code",
   "execution_count": null,
   "metadata": {
    "collapsed": true
   },
   "outputs": [],
   "source": []
  }
 ],
 "metadata": {
  "kernelspec": {
   "display_name": "python3",
   "language": "python",
   "name": "python3"
  },
  "language_info": {
   "codemirror_mode": {
    "name": "ipython",
    "version": 3
   },
   "file_extension": ".py",
   "mimetype": "text/x-python",
   "name": "python",
   "nbconvert_exporter": "python",
   "pygments_lexer": "ipython3",
   "version": "3.5.1rc1"
  }
 },
 "nbformat": 4,
 "nbformat_minor": 0
}
