{
 "cells": [
  {
   "cell_type": "code",
   "execution_count": 119,
   "metadata": {
    "collapsed": false
   },
   "outputs": [],
   "source": [
    "import serial\n",
    "import time\n",
    "\n",
    "\n",
    "ser = serial.Serial(port='/dev/tty.usbserial-A50285BI', baudrate = 9600, bytesize=serial.EIGHTBITS, \n",
    "                    parity=serial.PARITY_NONE, stopbits=serial.STOPBITS_ONE, timeout = 2)\n"
   ]
  },
  {
   "cell_type": "code",
   "execution_count": 123,
   "metadata": {
    "collapsed": false
   },
   "outputs": [
    {
     "name": "stdout",
     "output_type": "stream",
     "text": [
      "9\n",
      "b'[\\x03\\x01\\x02\\x03\\x01)]\\r'\n"
     ]
    }
   ],
   "source": [
    "message = [b'{', 3, 1, 2, 3, 1, b')', b'}', b'\\r']\n",
    "\n",
    "print(ser.write(message))\n",
    "\n",
    "returned = ser.read(50)\n",
    "\n",
    "\n",
    "print(returned)"
   ]
  },
  {
   "cell_type": "code",
   "execution_count": 127,
   "metadata": {
    "collapsed": false
   },
   "outputs": [
    {
     "name": "stdout",
     "output_type": "stream",
     "text": [
      "4\n",
      "b'AB'\n",
      "3\n",
      "b'OKz'\n"
     ]
    }
   ],
   "source": [
    "message = [9, b'+', b'+', b'+']\n",
    "\n",
    "print(ser.write(message))\n",
    "\n",
    "\n",
    "returned = ser.read(10)\n",
    "print(returned)\n",
    "\n",
    "time.sleep(0.5)\n",
    "message = [b's', b'o', b'+']\n",
    "\n",
    "print(ser.write(message))\n",
    "\n",
    "\n",
    "returned = ser.read(10)\n",
    "print(returned)\n"
   ]
  },
  {
   "cell_type": "code",
   "execution_count": 128,
   "metadata": {
    "collapsed": false
   },
   "outputs": [],
   "source": [
    "ser.close()\n",
    "\n"
   ]
  },
  {
   "cell_type": "code",
   "execution_count": 83,
   "metadata": {
    "collapsed": false
   },
   "outputs": [
    {
     "data": {
      "text/plain": [
       "1"
      ]
     },
     "execution_count": 83,
     "metadata": {},
     "output_type": "execute_result"
    }
   ],
   "source": [
    "ser.write([1])"
   ]
  },
  {
   "cell_type": "code",
   "execution_count": null,
   "metadata": {
    "collapsed": true
   },
   "outputs": [],
   "source": []
  }
 ],
 "metadata": {
  "kernelspec": {
   "display_name": "python3",
   "language": "python",
   "name": "python3"
  },
  "language_info": {
   "codemirror_mode": {
    "name": "ipython",
    "version": 3
   },
   "file_extension": ".py",
   "mimetype": "text/x-python",
   "name": "python",
   "nbconvert_exporter": "python",
   "pygments_lexer": "ipython3",
   "version": "3.5.1rc1"
  }
 },
 "nbformat": 4,
 "nbformat_minor": 0
}
